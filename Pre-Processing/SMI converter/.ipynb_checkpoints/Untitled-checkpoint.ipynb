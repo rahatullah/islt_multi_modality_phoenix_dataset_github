{
 "cells": [
  {
   "cell_type": "code",
   "execution_count": 10,
   "id": "1408f27b-39f8-42c0-ba23-bd2d605cda49",
   "metadata": {},
   "outputs": [],
   "source": [
    "from moviepy.video.io.VideoFileClip import VideoFileClip\n",
    "from moviepy.video.io.ffmpeg_tools import ffmpeg_extract_subclip\n",
    "import os"
   ]
  },
  {
   "cell_type": "code",
   "execution_count": 11,
   "id": "8f49dc9d-5a80-4254-84b3-10f20583d0ca",
   "metadata": {},
   "outputs": [],
   "source": [
    "def cut_video(input_video, output_directory, timestamps_file):\n",
    "    # Read timestamps from the file\n",
    "    with open(timestamps_file, 'r') as file:\n",
    "        lines = file.readlines()\n",
    "    \n",
    "    # Extract timestamps from lines\n",
    "    timestamps = [line.strip().split()[0] for line in lines if line.strip() and ':' in line]\n",
    "\n",
    "    # Process timestamps and convert to seconds\n",
    "    start_times = [sum(int(x) * 60 ** i for i, x in enumerate(reversed(timestamp.split(\":\")))) for timestamp in timestamps]\n",
    "\n",
    "    # Add the duration of the last segment to the start_times list\n",
    "    video_duration = VideoFileClip(input_video).duration\n",
    "    start_times.append(video_duration)\n",
    "\n",
    "    # Create output directory if it doesn't exist\n",
    "    os.makedirs(output_directory, exist_ok=True)\n",
    "\n",
    "    # Cut video based on timestamps\n",
    "    for i in range(len(start_times) - 1):\n",
    "        start_time = start_times[i]\n",
    "        end_time = start_times[i + 1]\n",
    "        output_video_path = os.path.join(output_directory, f'part_{i + 1}.mp4')\n",
    "        \n",
    "        # Use moviepy to extract the subclip\n",
    "        video_clip = VideoFileClip(input_video).subclip(start_time, end_time)\n",
    "        video_clip.write_videofile(output_video_path, codec=\"libx264\", audio_codec=\"aac\")\n",
    "        print(f\"Segment {i + 1} created: {output_video_path}\")"
   ]
  },
  {
   "cell_type": "code",
   "execution_count": null,
   "id": "f6bdf5b5-c198-4390-8118-423ca7254fa1",
   "metadata": {},
   "outputs": [
    {
     "name": "stderr",
     "output_type": "stream",
     "text": [
      "t:   0%|                                                                             | 0/210 [00:00<?, ?it/s, now=None]"
     ]
    },
    {
     "name": "stdout",
     "output_type": "stream",
     "text": [
      "Moviepy - Building video C:/Users/Admin/Dataset Buisness/Cropped\\part_1.mp4.\n",
      "MoviePy - Writing audio in part_1TEMP_MPY_wvf_snd.mp4\n",
      "MoviePy - Done.\n",
      "Moviepy - Writing video C:/Users/Admin/Dataset Buisness/Cropped\\part_1.mp4\n",
      "\n"
     ]
    },
    {
     "name": "stderr",
     "output_type": "stream",
     "text": [
      "                                                                                                                       \r"
     ]
    },
    {
     "name": "stdout",
     "output_type": "stream",
     "text": [
      "Moviepy - Done !\n",
      "Moviepy - video ready C:/Users/Admin/Dataset Buisness/Cropped\\part_1.mp4\n",
      "Segment 1 created: C:/Users/Admin/Dataset Buisness/Cropped\\part_1.mp4\n"
     ]
    },
    {
     "name": "stderr",
     "output_type": "stream",
     "text": [
      "chunk:  75%|█████████████████████████████████████████████▋               | 116/155 [00:00<00:00, 1157.95it/s, now=None]"
     ]
    },
    {
     "name": "stdout",
     "output_type": "stream",
     "text": [
      "Moviepy - Building video C:/Users/Admin/Dataset Buisness/Cropped\\part_2.mp4.\n",
      "MoviePy - Writing audio in part_2TEMP_MPY_wvf_snd.mp4\n"
     ]
    },
    {
     "name": "stderr",
     "output_type": "stream",
     "text": [
      "t:   3%|█▉                                                                   | 6/210 [00:00<00:03, 57.07it/s, now=None]"
     ]
    },
    {
     "name": "stdout",
     "output_type": "stream",
     "text": [
      "MoviePy - Done.\n",
      "Moviepy - Writing video C:/Users/Admin/Dataset Buisness/Cropped\\part_2.mp4\n",
      "\n"
     ]
    },
    {
     "name": "stderr",
     "output_type": "stream",
     "text": [
      "                                                                                                                       \r"
     ]
    },
    {
     "name": "stdout",
     "output_type": "stream",
     "text": [
      "Moviepy - Done !\n",
      "Moviepy - video ready C:/Users/Admin/Dataset Buisness/Cropped\\part_2.mp4\n",
      "Segment 2 created: C:/Users/Admin/Dataset Buisness/Cropped\\part_2.mp4\n"
     ]
    },
    {
     "name": "stderr",
     "output_type": "stream",
     "text": [
      "t:   0%|                                                                             | 0/180 [00:00<?, ?it/s, now=None]"
     ]
    },
    {
     "name": "stdout",
     "output_type": "stream",
     "text": [
      "Moviepy - Building video C:/Users/Admin/Dataset Buisness/Cropped\\part_3.mp4.\n",
      "MoviePy - Writing audio in part_3TEMP_MPY_wvf_snd.mp4\n",
      "MoviePy - Done.\n",
      "Moviepy - Writing video C:/Users/Admin/Dataset Buisness/Cropped\\part_3.mp4\n",
      "\n"
     ]
    },
    {
     "name": "stderr",
     "output_type": "stream",
     "text": [
      "                                                                                                                       \r"
     ]
    },
    {
     "name": "stdout",
     "output_type": "stream",
     "text": [
      "Moviepy - Done !\n",
      "Moviepy - video ready C:/Users/Admin/Dataset Buisness/Cropped\\part_3.mp4\n",
      "Segment 3 created: C:/Users/Admin/Dataset Buisness/Cropped\\part_3.mp4\n"
     ]
    },
    {
     "name": "stderr",
     "output_type": "stream",
     "text": [
      "chunk:  58%|███████████████████████████████████▋                          | 216/375 [00:00<00:00, 448.03it/s, now=None]"
     ]
    },
    {
     "name": "stdout",
     "output_type": "stream",
     "text": [
      "Moviepy - Building video C:/Users/Admin/Dataset Buisness/Cropped\\part_4.mp4.\n",
      "MoviePy - Writing audio in part_4TEMP_MPY_wvf_snd.mp4\n"
     ]
    },
    {
     "name": "stderr",
     "output_type": "stream",
     "text": [
      "t:   1%|▉                                                                    | 7/510 [00:00<00:07, 64.82it/s, now=None]"
     ]
    },
    {
     "name": "stdout",
     "output_type": "stream",
     "text": [
      "MoviePy - Done.\n",
      "Moviepy - Writing video C:/Users/Admin/Dataset Buisness/Cropped\\part_4.mp4\n",
      "\n"
     ]
    },
    {
     "name": "stderr",
     "output_type": "stream",
     "text": [
      "                                                                                                                       \r"
     ]
    },
    {
     "name": "stdout",
     "output_type": "stream",
     "text": [
      "Moviepy - Done !\n",
      "Moviepy - video ready C:/Users/Admin/Dataset Buisness/Cropped\\part_4.mp4\n",
      "Segment 4 created: C:/Users/Admin/Dataset Buisness/Cropped\\part_4.mp4\n"
     ]
    },
    {
     "name": "stderr",
     "output_type": "stream",
     "text": [
      "chunk:   1%|▍                                                                | 2/265 [00:00<00:16, 16.25it/s, now=None]"
     ]
    },
    {
     "name": "stdout",
     "output_type": "stream",
     "text": [
      "Moviepy - Building video C:/Users/Admin/Dataset Buisness/Cropped\\part_5.mp4.\n",
      "MoviePy - Writing audio in part_5TEMP_MPY_wvf_snd.mp4\n"
     ]
    },
    {
     "name": "stderr",
     "output_type": "stream",
     "text": [
      "t:   2%|█▌                                                                   | 8/360 [00:00<00:05, 68.56it/s, now=None]"
     ]
    },
    {
     "name": "stdout",
     "output_type": "stream",
     "text": [
      "MoviePy - Done.\n",
      "Moviepy - Writing video C:/Users/Admin/Dataset Buisness/Cropped\\part_5.mp4\n",
      "\n"
     ]
    },
    {
     "name": "stderr",
     "output_type": "stream",
     "text": [
      "                                                                                                                       \r"
     ]
    },
    {
     "name": "stdout",
     "output_type": "stream",
     "text": [
      "Moviepy - Done !\n",
      "Moviepy - video ready C:/Users/Admin/Dataset Buisness/Cropped\\part_5.mp4\n",
      "Segment 5 created: C:/Users/Admin/Dataset Buisness/Cropped\\part_5.mp4\n"
     ]
    },
    {
     "name": "stderr",
     "output_type": "stream",
     "text": [
      "                                                                                                                       "
     ]
    },
    {
     "name": "stdout",
     "output_type": "stream",
     "text": [
      "Moviepy - Building video C:/Users/Admin/Dataset Buisness/Cropped\\part_6.mp4.\n",
      "MoviePy - Writing audio in part_6TEMP_MPY_wvf_snd.mp4\n"
     ]
    },
    {
     "name": "stderr",
     "output_type": "stream",
     "text": [
      "t:   6%|████                                                                 | 7/120 [00:00<00:01, 64.78it/s, now=None]"
     ]
    },
    {
     "name": "stdout",
     "output_type": "stream",
     "text": [
      "MoviePy - Done.\n",
      "Moviepy - Writing video C:/Users/Admin/Dataset Buisness/Cropped\\part_6.mp4\n",
      "\n"
     ]
    },
    {
     "name": "stderr",
     "output_type": "stream",
     "text": [
      "                                                                                                                       \r"
     ]
    },
    {
     "name": "stdout",
     "output_type": "stream",
     "text": [
      "Moviepy - Done !\n",
      "Moviepy - video ready C:/Users/Admin/Dataset Buisness/Cropped\\part_6.mp4\n",
      "Segment 6 created: C:/Users/Admin/Dataset Buisness/Cropped\\part_6.mp4\n"
     ]
    },
    {
     "name": "stderr",
     "output_type": "stream",
     "text": [
      "chunk:   1%|▋                                                                | 2/177 [00:00<00:10, 16.31it/s, now=None]"
     ]
    },
    {
     "name": "stdout",
     "output_type": "stream",
     "text": [
      "Moviepy - Building video C:/Users/Admin/Dataset Buisness/Cropped\\part_7.mp4.\n",
      "MoviePy - Writing audio in part_7TEMP_MPY_wvf_snd.mp4\n"
     ]
    },
    {
     "name": "stderr",
     "output_type": "stream",
     "text": [
      "t:   3%|██                                                                   | 7/240 [00:00<00:03, 65.02it/s, now=None]"
     ]
    },
    {
     "name": "stdout",
     "output_type": "stream",
     "text": [
      "MoviePy - Done.\n",
      "Moviepy - Writing video C:/Users/Admin/Dataset Buisness/Cropped\\part_7.mp4\n",
      "\n"
     ]
    },
    {
     "name": "stderr",
     "output_type": "stream",
     "text": [
      "                                                                                                                       \r"
     ]
    },
    {
     "name": "stdout",
     "output_type": "stream",
     "text": [
      "Moviepy - Done !\n",
      "Moviepy - video ready C:/Users/Admin/Dataset Buisness/Cropped\\part_7.mp4\n",
      "Segment 7 created: C:/Users/Admin/Dataset Buisness/Cropped\\part_7.mp4\n"
     ]
    },
    {
     "name": "stderr",
     "output_type": "stream",
     "text": [
      "chunk:   0%|                                                                         | 0/111 [00:00<?, ?it/s, now=None]"
     ]
    },
    {
     "name": "stdout",
     "output_type": "stream",
     "text": [
      "Moviepy - Building video C:/Users/Admin/Dataset Buisness/Cropped\\part_8.mp4.\n",
      "MoviePy - Writing audio in part_8TEMP_MPY_wvf_snd.mp4\n"
     ]
    },
    {
     "name": "stderr",
     "output_type": "stream",
     "text": [
      "t:   4%|██▊                                                                  | 6/150 [00:00<00:02, 57.10it/s, now=None]"
     ]
    },
    {
     "name": "stdout",
     "output_type": "stream",
     "text": [
      "MoviePy - Done.\n",
      "Moviepy - Writing video C:/Users/Admin/Dataset Buisness/Cropped\\part_8.mp4\n",
      "\n"
     ]
    },
    {
     "name": "stderr",
     "output_type": "stream",
     "text": [
      "                                                                                                                       \r"
     ]
    },
    {
     "name": "stdout",
     "output_type": "stream",
     "text": [
      "Moviepy - Done !\n",
      "Moviepy - video ready C:/Users/Admin/Dataset Buisness/Cropped\\part_8.mp4\n",
      "Segment 8 created: C:/Users/Admin/Dataset Buisness/Cropped\\part_8.mp4\n"
     ]
    },
    {
     "name": "stderr",
     "output_type": "stream",
     "text": [
      "chunk:   6%|███▍                                                           | 28/508 [00:00<00:01, 254.26it/s, now=None]"
     ]
    },
    {
     "name": "stdout",
     "output_type": "stream",
     "text": [
      "Moviepy - Building video C:/Users/Admin/Dataset Buisness/Cropped\\part_9.mp4.\n",
      "MoviePy - Writing audio in part_9TEMP_MPY_wvf_snd.mp4\n"
     ]
    },
    {
     "name": "stderr",
     "output_type": "stream",
     "text": [
      "t:   1%|▌                                                                    | 6/690 [00:00<00:11, 59.07it/s, now=None]"
     ]
    },
    {
     "name": "stdout",
     "output_type": "stream",
     "text": [
      "MoviePy - Done.\n",
      "Moviepy - Writing video C:/Users/Admin/Dataset Buisness/Cropped\\part_9.mp4\n",
      "\n"
     ]
    },
    {
     "name": "stderr",
     "output_type": "stream",
     "text": [
      "                                                                                                                       \r"
     ]
    },
    {
     "name": "stdout",
     "output_type": "stream",
     "text": [
      "Moviepy - Done !\n",
      "Moviepy - video ready C:/Users/Admin/Dataset Buisness/Cropped\\part_9.mp4\n",
      "Segment 9 created: C:/Users/Admin/Dataset Buisness/Cropped\\part_9.mp4\n"
     ]
    },
    {
     "name": "stderr",
     "output_type": "stream",
     "text": [
      "chunk:   4%|██▋                                                            | 16/375 [00:00<00:02, 159.12it/s, now=None]"
     ]
    },
    {
     "name": "stdout",
     "output_type": "stream",
     "text": [
      "Moviepy - Building video C:/Users/Admin/Dataset Buisness/Cropped\\part_10.mp4.\n",
      "MoviePy - Writing audio in part_10TEMP_MPY_wvf_snd.mp4\n"
     ]
    },
    {
     "name": "stderr",
     "output_type": "stream",
     "text": [
      "t:   1%|▋                                                                    | 5/510 [00:00<00:10, 48.28it/s, now=None]"
     ]
    },
    {
     "name": "stdout",
     "output_type": "stream",
     "text": [
      "MoviePy - Done.\n",
      "Moviepy - Writing video C:/Users/Admin/Dataset Buisness/Cropped\\part_10.mp4\n",
      "\n"
     ]
    },
    {
     "name": "stderr",
     "output_type": "stream",
     "text": [
      "                                                                                                                       \r"
     ]
    },
    {
     "name": "stdout",
     "output_type": "stream",
     "text": [
      "Moviepy - Done !\n",
      "Moviepy - video ready C:/Users/Admin/Dataset Buisness/Cropped\\part_10.mp4\n",
      "Segment 10 created: C:/Users/Admin/Dataset Buisness/Cropped\\part_10.mp4\n"
     ]
    },
    {
     "name": "stderr",
     "output_type": "stream",
     "text": [
      "chunk:   1%|▍                                                                | 2/265 [00:00<00:16, 15.74it/s, now=None]"
     ]
    },
    {
     "name": "stdout",
     "output_type": "stream",
     "text": [
      "Moviepy - Building video C:/Users/Admin/Dataset Buisness/Cropped\\part_11.mp4.\n",
      "MoviePy - Writing audio in part_11TEMP_MPY_wvf_snd.mp4\n"
     ]
    },
    {
     "name": "stderr",
     "output_type": "stream",
     "text": [
      "t:   2%|█▎                                                                   | 7/360 [00:00<00:05, 65.62it/s, now=None]"
     ]
    },
    {
     "name": "stdout",
     "output_type": "stream",
     "text": [
      "MoviePy - Done.\n",
      "Moviepy - Writing video C:/Users/Admin/Dataset Buisness/Cropped\\part_11.mp4\n",
      "\n"
     ]
    },
    {
     "name": "stderr",
     "output_type": "stream",
     "text": [
      "                                                                                                                       \r"
     ]
    },
    {
     "name": "stdout",
     "output_type": "stream",
     "text": [
      "Moviepy - Done !\n",
      "Moviepy - video ready C:/Users/Admin/Dataset Buisness/Cropped\\part_11.mp4\n",
      "Segment 11 created: C:/Users/Admin/Dataset Buisness/Cropped\\part_11.mp4\n"
     ]
    },
    {
     "name": "stderr",
     "output_type": "stream",
     "text": [
      "chunk:  49%|██████████████████████████████▎                               | 205/419 [00:00<00:00, 219.11it/s, now=None]"
     ]
    },
    {
     "name": "stdout",
     "output_type": "stream",
     "text": [
      "Moviepy - Building video C:/Users/Admin/Dataset Buisness/Cropped\\part_12.mp4.\n",
      "MoviePy - Writing audio in part_12TEMP_MPY_wvf_snd.mp4\n"
     ]
    },
    {
     "name": "stderr",
     "output_type": "stream",
     "text": [
      "t:   1%|▊                                                                    | 7/570 [00:00<00:08, 65.35it/s, now=None]"
     ]
    },
    {
     "name": "stdout",
     "output_type": "stream",
     "text": [
      "MoviePy - Done.\n",
      "Moviepy - Writing video C:/Users/Admin/Dataset Buisness/Cropped\\part_12.mp4\n",
      "\n"
     ]
    },
    {
     "name": "stderr",
     "output_type": "stream",
     "text": [
      "                                                                                                                       \r"
     ]
    },
    {
     "name": "stdout",
     "output_type": "stream",
     "text": [
      "Moviepy - Done !\n",
      "Moviepy - video ready C:/Users/Admin/Dataset Buisness/Cropped\\part_12.mp4\n",
      "Segment 12 created: C:/Users/Admin/Dataset Buisness/Cropped\\part_12.mp4\n"
     ]
    },
    {
     "name": "stderr",
     "output_type": "stream",
     "text": [
      "chunk:   1%|▋                                                                | 2/177 [00:00<00:11, 15.72it/s, now=None]"
     ]
    },
    {
     "name": "stdout",
     "output_type": "stream",
     "text": [
      "Moviepy - Building video C:/Users/Admin/Dataset Buisness/Cropped\\part_13.mp4.\n",
      "MoviePy - Writing audio in part_13TEMP_MPY_wvf_snd.mp4\n"
     ]
    },
    {
     "name": "stderr",
     "output_type": "stream",
     "text": [
      "t:   2%|█▋                                                                   | 6/240 [00:00<00:04, 57.67it/s, now=None]"
     ]
    },
    {
     "name": "stdout",
     "output_type": "stream",
     "text": [
      "MoviePy - Done.\n",
      "Moviepy - Writing video C:/Users/Admin/Dataset Buisness/Cropped\\part_13.mp4\n",
      "\n"
     ]
    },
    {
     "name": "stderr",
     "output_type": "stream",
     "text": [
      "                                                                                                                       \r"
     ]
    },
    {
     "name": "stdout",
     "output_type": "stream",
     "text": [
      "Moviepy - Done !\n",
      "Moviepy - video ready C:/Users/Admin/Dataset Buisness/Cropped\\part_13.mp4\n",
      "Segment 13 created: C:/Users/Admin/Dataset Buisness/Cropped\\part_13.mp4\n"
     ]
    },
    {
     "name": "stderr",
     "output_type": "stream",
     "text": [
      "chunk:   0%|                                                                         | 0/353 [00:00<?, ?it/s, now=None]"
     ]
    },
    {
     "name": "stdout",
     "output_type": "stream",
     "text": [
      "Moviepy - Building video C:/Users/Admin/Dataset Buisness/Cropped\\part_14.mp4.\n",
      "MoviePy - Writing audio in part_14TEMP_MPY_wvf_snd.mp4\n"
     ]
    },
    {
     "name": "stderr",
     "output_type": "stream",
     "text": [
      "t:   2%|█▏                                                                   | 8/480 [00:00<00:06, 71.24it/s, now=None]"
     ]
    },
    {
     "name": "stdout",
     "output_type": "stream",
     "text": [
      "MoviePy - Done.\n",
      "Moviepy - Writing video C:/Users/Admin/Dataset Buisness/Cropped\\part_14.mp4\n",
      "\n"
     ]
    },
    {
     "name": "stderr",
     "output_type": "stream",
     "text": [
      "                                                                                                                       \r"
     ]
    },
    {
     "name": "stdout",
     "output_type": "stream",
     "text": [
      "Moviepy - Done !\n",
      "Moviepy - video ready C:/Users/Admin/Dataset Buisness/Cropped\\part_14.mp4\n",
      "Segment 14 created: C:/Users/Admin/Dataset Buisness/Cropped\\part_14.mp4\n"
     ]
    },
    {
     "name": "stderr",
     "output_type": "stream",
     "text": [
      "chunk:   2%|█▎                                                               | 6/309 [00:00<00:05, 59.91it/s, now=None]"
     ]
    },
    {
     "name": "stdout",
     "output_type": "stream",
     "text": [
      "Moviepy - Building video C:/Users/Admin/Dataset Buisness/Cropped\\part_15.mp4.\n",
      "MoviePy - Writing audio in part_15TEMP_MPY_wvf_snd.mp4\n"
     ]
    },
    {
     "name": "stderr",
     "output_type": "stream",
     "text": [
      "t:   1%|▊                                                                    | 5/420 [00:00<00:09, 45.98it/s, now=None]"
     ]
    },
    {
     "name": "stdout",
     "output_type": "stream",
     "text": [
      "MoviePy - Done.\n",
      "Moviepy - Writing video C:/Users/Admin/Dataset Buisness/Cropped\\part_15.mp4\n",
      "\n"
     ]
    },
    {
     "name": "stderr",
     "output_type": "stream",
     "text": [
      "                                                                                                                       \r"
     ]
    },
    {
     "name": "stdout",
     "output_type": "stream",
     "text": [
      "Moviepy - Done !\n",
      "Moviepy - video ready C:/Users/Admin/Dataset Buisness/Cropped\\part_15.mp4\n",
      "Segment 15 created: C:/Users/Admin/Dataset Buisness/Cropped\\part_15.mp4\n"
     ]
    },
    {
     "name": "stderr",
     "output_type": "stream",
     "text": [
      "                                                                                                                       "
     ]
    },
    {
     "name": "stdout",
     "output_type": "stream",
     "text": [
      "Moviepy - Building video C:/Users/Admin/Dataset Buisness/Cropped\\part_16.mp4.\n",
      "MoviePy - Writing audio in part_16TEMP_MPY_wvf_snd.mp4\n"
     ]
    },
    {
     "name": "stderr",
     "output_type": "stream",
     "text": [
      "t:   6%|████                                                                 | 7/120 [00:00<00:01, 69.50it/s, now=None]"
     ]
    },
    {
     "name": "stdout",
     "output_type": "stream",
     "text": [
      "MoviePy - Done.\n",
      "Moviepy - Writing video C:/Users/Admin/Dataset Buisness/Cropped\\part_16.mp4\n",
      "\n"
     ]
    },
    {
     "name": "stderr",
     "output_type": "stream",
     "text": [
      "                                                                                                                       \r"
     ]
    },
    {
     "name": "stdout",
     "output_type": "stream",
     "text": [
      "Moviepy - Done !\n",
      "Moviepy - video ready C:/Users/Admin/Dataset Buisness/Cropped\\part_16.mp4\n",
      "Segment 16 created: C:/Users/Admin/Dataset Buisness/Cropped\\part_16.mp4\n"
     ]
    },
    {
     "name": "stderr",
     "output_type": "stream",
     "text": [
      "chunk:   2%|█▏                                                               | 2/111 [00:00<00:06, 18.01it/s, now=None]"
     ]
    },
    {
     "name": "stdout",
     "output_type": "stream",
     "text": [
      "Moviepy - Building video C:/Users/Admin/Dataset Buisness/Cropped\\part_17.mp4.\n",
      "MoviePy - Writing audio in part_17TEMP_MPY_wvf_snd.mp4\n"
     ]
    },
    {
     "name": "stderr",
     "output_type": "stream",
     "text": [
      "t:   2%|█▍                                                                   | 3/150 [00:00<00:05, 28.95it/s, now=None]"
     ]
    },
    {
     "name": "stdout",
     "output_type": "stream",
     "text": [
      "MoviePy - Done.\n",
      "Moviepy - Writing video C:/Users/Admin/Dataset Buisness/Cropped\\part_17.mp4\n",
      "\n"
     ]
    },
    {
     "name": "stderr",
     "output_type": "stream",
     "text": [
      "                                                                                                                       \r"
     ]
    },
    {
     "name": "stdout",
     "output_type": "stream",
     "text": [
      "Moviepy - Done !\n",
      "Moviepy - video ready C:/Users/Admin/Dataset Buisness/Cropped\\part_17.mp4\n",
      "Segment 17 created: C:/Users/Admin/Dataset Buisness/Cropped\\part_17.mp4\n"
     ]
    },
    {
     "name": "stderr",
     "output_type": "stream",
     "text": [
      "t:   0%|                                                                             | 0/150 [00:00<?, ?it/s, now=None]"
     ]
    },
    {
     "name": "stdout",
     "output_type": "stream",
     "text": [
      "Moviepy - Building video C:/Users/Admin/Dataset Buisness/Cropped\\part_18.mp4.\n",
      "MoviePy - Writing audio in part_18TEMP_MPY_wvf_snd.mp4\n",
      "MoviePy - Done.\n",
      "Moviepy - Writing video C:/Users/Admin/Dataset Buisness/Cropped\\part_18.mp4\n",
      "\n"
     ]
    },
    {
     "name": "stderr",
     "output_type": "stream",
     "text": [
      "                                                                                                                       \r"
     ]
    },
    {
     "name": "stdout",
     "output_type": "stream",
     "text": [
      "Moviepy - Done !\n",
      "Moviepy - video ready C:/Users/Admin/Dataset Buisness/Cropped\\part_18.mp4\n",
      "Segment 18 created: C:/Users/Admin/Dataset Buisness/Cropped\\part_18.mp4\n"
     ]
    },
    {
     "name": "stderr",
     "output_type": "stream",
     "text": [
      "t:   0%|                                                                             | 0/150 [00:00<?, ?it/s, now=None]"
     ]
    },
    {
     "name": "stdout",
     "output_type": "stream",
     "text": [
      "Moviepy - Building video C:/Users/Admin/Dataset Buisness/Cropped\\part_19.mp4.\n",
      "MoviePy - Writing audio in part_19TEMP_MPY_wvf_snd.mp4\n",
      "MoviePy - Done.\n",
      "Moviepy - Writing video C:/Users/Admin/Dataset Buisness/Cropped\\part_19.mp4\n",
      "\n"
     ]
    },
    {
     "name": "stderr",
     "output_type": "stream",
     "text": [
      "                                                                                                                       \r"
     ]
    },
    {
     "name": "stdout",
     "output_type": "stream",
     "text": [
      "Moviepy - Done !\n",
      "Moviepy - video ready C:/Users/Admin/Dataset Buisness/Cropped\\part_19.mp4\n",
      "Segment 19 created: C:/Users/Admin/Dataset Buisness/Cropped\\part_19.mp4\n"
     ]
    },
    {
     "name": "stderr",
     "output_type": "stream",
     "text": [
      "chunk:  99%|██████████████████████████████████████████████████████████████▋| 176/177 [00:00<00:00, 25.69it/s, now=None]"
     ]
    },
    {
     "name": "stdout",
     "output_type": "stream",
     "text": [
      "Moviepy - Building video C:/Users/Admin/Dataset Buisness/Cropped\\part_20.mp4.\n",
      "MoviePy - Writing audio in part_20TEMP_MPY_wvf_snd.mp4\n"
     ]
    },
    {
     "name": "stderr",
     "output_type": "stream",
     "text": [
      "t:   2%|█▋                                                                   | 6/240 [00:00<00:03, 59.96it/s, now=None]"
     ]
    },
    {
     "name": "stdout",
     "output_type": "stream",
     "text": [
      "MoviePy - Done.\n",
      "Moviepy - Writing video C:/Users/Admin/Dataset Buisness/Cropped\\part_20.mp4\n",
      "\n"
     ]
    },
    {
     "name": "stderr",
     "output_type": "stream",
     "text": [
      "                                                                                                                       \r"
     ]
    },
    {
     "name": "stdout",
     "output_type": "stream",
     "text": [
      "Moviepy - Done !\n",
      "Moviepy - video ready C:/Users/Admin/Dataset Buisness/Cropped\\part_20.mp4\n",
      "Segment 20 created: C:/Users/Admin/Dataset Buisness/Cropped\\part_20.mp4\n"
     ]
    },
    {
     "name": "stderr",
     "output_type": "stream",
     "text": [
      "chunk:  11%|██████▋                                                        | 28/265 [00:00<00:00, 255.58it/s, now=None]"
     ]
    },
    {
     "name": "stdout",
     "output_type": "stream",
     "text": [
      "Moviepy - Building video C:/Users/Admin/Dataset Buisness/Cropped\\part_21.mp4.\n",
      "MoviePy - Writing audio in part_21TEMP_MPY_wvf_snd.mp4\n"
     ]
    },
    {
     "name": "stderr",
     "output_type": "stream",
     "text": [
      "t:   2%|█▎                                                                   | 7/360 [00:00<00:05, 64.47it/s, now=None]"
     ]
    },
    {
     "name": "stdout",
     "output_type": "stream",
     "text": [
      "MoviePy - Done.\n",
      "Moviepy - Writing video C:/Users/Admin/Dataset Buisness/Cropped\\part_21.mp4\n",
      "\n"
     ]
    },
    {
     "name": "stderr",
     "output_type": "stream",
     "text": [
      "                                                                                                                       \r"
     ]
    },
    {
     "name": "stdout",
     "output_type": "stream",
     "text": [
      "Moviepy - Done !\n",
      "Moviepy - video ready C:/Users/Admin/Dataset Buisness/Cropped\\part_21.mp4\n",
      "Segment 21 created: C:/Users/Admin/Dataset Buisness/Cropped\\part_21.mp4\n"
     ]
    },
    {
     "name": "stderr",
     "output_type": "stream",
     "text": [
      "chunk:   0%|                                                                         | 0/177 [00:00<?, ?it/s, now=None]"
     ]
    },
    {
     "name": "stdout",
     "output_type": "stream",
     "text": [
      "Moviepy - Building video C:/Users/Admin/Dataset Buisness/Cropped\\part_22.mp4.\n",
      "MoviePy - Writing audio in part_22TEMP_MPY_wvf_snd.mp4\n"
     ]
    },
    {
     "name": "stderr",
     "output_type": "stream",
     "text": [
      "t:   3%|██▎                                                                  | 8/240 [00:00<00:02, 78.38it/s, now=None]"
     ]
    },
    {
     "name": "stdout",
     "output_type": "stream",
     "text": [
      "MoviePy - Done.\n",
      "Moviepy - Writing video C:/Users/Admin/Dataset Buisness/Cropped\\part_22.mp4\n",
      "\n"
     ]
    },
    {
     "name": "stderr",
     "output_type": "stream",
     "text": [
      "                                                                                                                       \r"
     ]
    },
    {
     "name": "stdout",
     "output_type": "stream",
     "text": [
      "Moviepy - Done !\n",
      "Moviepy - video ready C:/Users/Admin/Dataset Buisness/Cropped\\part_22.mp4\n",
      "Segment 22 created: C:/Users/Admin/Dataset Buisness/Cropped\\part_22.mp4\n"
     ]
    },
    {
     "name": "stderr",
     "output_type": "stream",
     "text": [
      "chunk:   1%|▎                                                                | 2/397 [00:00<00:23, 17.08it/s, now=None]"
     ]
    },
    {
     "name": "stdout",
     "output_type": "stream",
     "text": [
      "Moviepy - Building video C:/Users/Admin/Dataset Buisness/Cropped\\part_23.mp4.\n",
      "MoviePy - Writing audio in part_23TEMP_MPY_wvf_snd.mp4\n"
     ]
    },
    {
     "name": "stderr",
     "output_type": "stream",
     "text": [
      "t:   1%|▊                                                                    | 6/540 [00:00<00:09, 57.65it/s, now=None]"
     ]
    },
    {
     "name": "stdout",
     "output_type": "stream",
     "text": [
      "MoviePy - Done.\n",
      "Moviepy - Writing video C:/Users/Admin/Dataset Buisness/Cropped\\part_23.mp4\n",
      "\n"
     ]
    },
    {
     "name": "stderr",
     "output_type": "stream",
     "text": [
      "                                                                                                                       \r"
     ]
    },
    {
     "name": "stdout",
     "output_type": "stream",
     "text": [
      "Moviepy - Done !\n",
      "Moviepy - video ready C:/Users/Admin/Dataset Buisness/Cropped\\part_23.mp4\n",
      "Segment 23 created: C:/Users/Admin/Dataset Buisness/Cropped\\part_23.mp4\n"
     ]
    },
    {
     "name": "stderr",
     "output_type": "stream",
     "text": [
      "chunk:   9%|█████▋                                                         | 28/309 [00:00<00:01, 257.92it/s, now=None]"
     ]
    },
    {
     "name": "stdout",
     "output_type": "stream",
     "text": [
      "Moviepy - Building video C:/Users/Admin/Dataset Buisness/Cropped\\part_24.mp4.\n",
      "MoviePy - Writing audio in part_24TEMP_MPY_wvf_snd.mp4\n"
     ]
    },
    {
     "name": "stderr",
     "output_type": "stream",
     "text": [
      "t:   1%|▋                                                                    | 4/420 [00:00<00:11, 36.66it/s, now=None]"
     ]
    },
    {
     "name": "stdout",
     "output_type": "stream",
     "text": [
      "MoviePy - Done.\n",
      "Moviepy - Writing video C:/Users/Admin/Dataset Buisness/Cropped\\part_24.mp4\n",
      "\n"
     ]
    },
    {
     "name": "stderr",
     "output_type": "stream",
     "text": [
      "t:  65%|███████████████████████████████████████████▊                       | 275/420 [00:03<00:02, 71.17it/s, now=None]"
     ]
    }
   ],
   "source": [
    "# Example usage\n",
    "input_video = 'C:/Users/Admin/Dataset Buisness/2022 Finance Budget Key Highlights_Full-HD.mp4'\n",
    "output_directory = 'C:/Users/Admin/Dataset Buisness/Cropped'\n",
    "timestamps_file = 'C:/Users/Admin/Dataset Buisness/2022 Finance Budget Key Highlights_Full-HD.txt'\n",
    "cut_video(input_video, output_directory, timestamps_file)"
   ]
  },
  {
   "cell_type": "code",
   "execution_count": null,
   "id": "ae02dd7d-4acf-4e5a-b71a-2a5eca6d7b34",
   "metadata": {},
   "outputs": [],
   "source": []
  },
  {
   "cell_type": "code",
   "execution_count": null,
   "id": "dbb0550a-f33a-41b9-b3db-e41a7e3ec1ba",
   "metadata": {},
   "outputs": [],
   "source": []
  }
 ],
 "metadata": {
  "kernelspec": {
   "display_name": "Python 3 (ipykernel)",
   "language": "python",
   "name": "python3"
  },
  "language_info": {
   "codemirror_mode": {
    "name": "ipython",
    "version": 3
   },
   "file_extension": ".py",
   "mimetype": "text/x-python",
   "name": "python",
   "nbconvert_exporter": "python",
   "pygments_lexer": "ipython3",
   "version": "3.8.17"
  }
 },
 "nbformat": 4,
 "nbformat_minor": 5
}
