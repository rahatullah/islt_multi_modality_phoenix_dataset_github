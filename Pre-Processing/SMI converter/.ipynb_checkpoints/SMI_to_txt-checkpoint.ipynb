{
 "cells": [
  {
   "cell_type": "code",
   "execution_count": 1,
   "id": "e4c72b5b-7d7b-4cfb-9121-d9e19bd051a8",
   "metadata": {},
   "outputs": [
    {
     "name": "stdout",
     "output_type": "stream",
     "text": [
      "Processed: C:/Users/Admin/Dataset Buisness/2022 Finance Budget Key Highlights_Full-HD.smi -> C:/Users/Admin/Dataset Buisness/subs\\2022 Finance Budget Key Highlights_Full-HD.txt\n",
      "Processed: C:/Users/Admin/Dataset Buisness/ABG Shipyard Scams Indian Banks Of Over ₹22,000 Crore _ ISH News_Full-HD.smi -> C:/Users/Admin/Dataset Buisness/subs\\ABG Shipyard Scams Indian Banks Of Over ₹22,000 Crore _ ISH News_Full-HD.txt\n",
      "Processed: C:/Users/Admin/Dataset Buisness/Adani Buys a Port in Israel Worth 1.2Billion Dollars _ ISH News_Full-HD.smi -> C:/Users/Admin/Dataset Buisness/subs\\Adani Buys a Port in Israel Worth 1.2Billion Dollars _ ISH News_Full-HD.txt\n",
      "Processed: C:/Users/Admin/Dataset Buisness/Adani Group Takes Over Management of Mumbai Airport_Full-HD.smi -> C:/Users/Admin/Dataset Buisness/subs\\Adani Group Takes Over Management of Mumbai Airport_Full-HD.txt\n",
      "Processed: C:/Users/Admin/Dataset Buisness/Adani Overtakes Arnault & Becomes the 3rd Richest Man _ ISH News_Full-HD.smi -> C:/Users/Admin/Dataset Buisness/subs\\Adani Overtakes Arnault & Becomes the 3rd Richest Man _ ISH News_Full-HD.txt\n",
      "Processed: C:/Users/Admin/Dataset Buisness/Adani Overtakes Bill Gates & Becomes 4th Richest Man _ ISH News_Full-HD.smi -> C:/Users/Admin/Dataset Buisness/subs\\Adani Overtakes Bill Gates & Becomes 4th Richest Man _ ISH News_Full-HD.txt\n",
      "Processed: C:/Users/Admin/Dataset Buisness/Ambani Buys House in Dubai & Plans to Start 5G Service in 2 Months _ ISH New_Full-HD.smi -> C:/Users/Admin/Dataset Buisness/subs\\Ambani Buys House in Dubai & Plans to Start 5G Service in 2 Months _ ISH New_Full-HD.txt\n",
      "Processed: C:/Users/Admin/Dataset Buisness/Classic Cold Drink Campa Cola Will be Back Soon _ ISH News_Full-HD.smi -> C:/Users/Admin/Dataset Buisness/subs\\Classic Cold Drink Campa Cola Will be Back Soon _ ISH News_Full-HD.txt\n",
      "Processed: C:/Users/Admin/Dataset Buisness/Crypto Crash Because of Russia & USA__Full-HD.smi -> C:/Users/Admin/Dataset Buisness/subs\\Crypto Crash Because of Russia & USA__Full-HD.txt\n",
      "Processed: C:/Users/Admin/Dataset Buisness/DHFL Defrauds UBI & 16 Other Banks For ₹34,615 crore _ ISH News_Full-HD.smi -> C:/Users/Admin/Dataset Buisness/subs\\DHFL Defrauds UBI & 16 Other Banks For ₹34,615 crore _ ISH News_Full-HD.txt\n",
      "Processed: C:/Users/Admin/Dataset Buisness/Ex-Tata Sons Chief Cyrus Mistry Dies in a Road Accident _ ISH News_Full-HD.smi -> C:/Users/Admin/Dataset Buisness/subs\\Ex-Tata Sons Chief Cyrus Mistry Dies in a Road Accident _ ISH News_Full-HD.txt\n",
      "Processed: C:/Users/Admin/Dataset Buisness/Govt Extended FY21 Income Tax Return Deadline_Full-HD.smi -> C:/Users/Admin/Dataset Buisness/subs\\Govt Extended FY21 Income Tax Return Deadline_Full-HD.txt\n",
      "Skipping: C:/Users/Admin/Dataset Buisness/Govt Sells Air India Subsidiary AIATSL_Full-HD.smi (empty output)\n",
      "Processed: C:/Users/Admin/Dataset Buisness/Govt. Withdraws Order on Interest Rate Cuts_Full-HD.smi -> C:/Users/Admin/Dataset Buisness/subs\\Govt. Withdraws Order on Interest Rate Cuts_Full-HD.txt\n",
      "Processed: C:/Users/Admin/Dataset Buisness/ICICI Ex-CEO & Husband Arrested For a 3,250 Cr Fraud _ ISH News_Full-HD.smi -> C:/Users/Admin/Dataset Buisness/subs\\ICICI Ex-CEO & Husband Arrested For a 3,250 Cr Fraud _ ISH News_Full-HD.txt\n",
      "Processed: C:/Users/Admin/Dataset Buisness/India- 30_ Tax on CryptoCurrency from 1 April 2022 _ ISH News_Full-HD.smi -> C:/Users/Admin/Dataset Buisness/subs\\India- 30_ Tax on CryptoCurrency from 1 April 2022 _ ISH News_Full-HD.txt\n",
      "Processed: C:/Users/Admin/Dataset Buisness/INDIA- Extra Charge on UPI Payments_  _ ISH News_Full-HD.smi -> C:/Users/Admin/Dataset Buisness/subs\\INDIA- Extra Charge on UPI Payments_  _ ISH News_Full-HD.txt\n",
      "Processed: C:/Users/Admin/Dataset Buisness/Indian Banks Strike For 2 Days Against Privatisation_Full-HD.smi -> C:/Users/Admin/Dataset Buisness/subs\\Indian Banks Strike For 2 Days Against Privatisation_Full-HD.txt\n",
      "Processed: C:/Users/Admin/Dataset Buisness/Isha Ambani Becomes the New Boss of Reliance Retail_ _ ISH News_Full-HD.smi -> C:/Users/Admin/Dataset Buisness/subs\\Isha Ambani Becomes the New Boss of Reliance Retail_ _ ISH News_Full-HD.txt\n",
      "Processed: C:/Users/Admin/Dataset Buisness/Mcdonald’s, Starbucks, Coca Cola Stop Sales in Russia _ ISH News_Full-HD.smi -> C:/Users/Admin/Dataset Buisness/subs\\Mcdonald’s, Starbucks, Coca Cola Stop Sales in Russia _ ISH News_Full-HD.txt\n",
      "Processed: C:/Users/Admin/Dataset Buisness/Now Withdraw Cash Using UPI-ATM _ ISH News_Full-HD.smi -> C:/Users/Admin/Dataset Buisness/subs\\Now Withdraw Cash Using UPI-ATM _ ISH News_Full-HD.txt\n",
      "Processed: C:/Users/Admin/Dataset Buisness/NRIs in USA Rush To Buy Indian Rice  _ ISH News_Full-HD.smi -> C:/Users/Admin/Dataset Buisness/subs\\NRIs in USA Rush To Buy Indian Rice  _ ISH News_Full-HD.txt\n",
      "Processed: C:/Users/Admin/Dataset Buisness/PM Modi Wants to Ban Cryptocurrencies_Full-HD.smi -> C:/Users/Admin/Dataset Buisness/subs\\PM Modi Wants to Ban Cryptocurrencies_Full-HD.txt\n",
      "Processed: C:/Users/Admin/Dataset Buisness/Price of Dry Fruits Increases Because of Taliban_Full-HD.smi -> C:/Users/Admin/Dataset Buisness/subs\\Price of Dry Fruits Increases Because of Taliban_Full-HD.txt\n",
      "Processed: C:/Users/Admin/Dataset Buisness/RBI Bans Mastercard From Taking New Customers_Full-HD.smi -> C:/Users/Admin/Dataset Buisness/subs\\RBI Bans Mastercard From Taking New Customers_Full-HD.txt\n",
      "Processed: C:/Users/Admin/Dataset Buisness/Shark Tank’s Ashneer Grover Resigns BharatPe _ ISH News_Full-HD.smi -> C:/Users/Admin/Dataset Buisness/subs\\Shark Tank’s Ashneer Grover Resigns BharatPe _ ISH News_Full-HD.txt\n",
      "Processed: C:/Users/Admin/Dataset Buisness/Taj Has Been Ranked As World’s Strongest Hotel Brand _ ISH News_Full-HD.smi -> C:/Users/Admin/Dataset Buisness/subs\\Taj Has Been Ranked As World’s Strongest Hotel Brand _ ISH News_Full-HD.txt\n",
      "Processed: C:/Users/Admin/Dataset Buisness/Tata Group Replaces Vivo as IPL’s Title Sponsor_Full-HD.smi -> C:/Users/Admin/Dataset Buisness/subs\\Tata Group Replaces Vivo as IPL’s Title Sponsor_Full-HD.txt\n",
      "Processed: C:/Users/Admin/Dataset Buisness/Tata Takes Control of Air India After 69 Years_Full-HD.smi -> C:/Users/Admin/Dataset Buisness/subs\\Tata Takes Control of Air India After 69 Years_Full-HD.txt\n",
      "Skipping: C:/Users/Admin/Dataset Buisness/The Best Valentine’s Day Gift - OMVAI_Full-HD.smi (empty output)\n",
      "Processed: C:/Users/Admin/Dataset Buisness/The Gift of Life (Advertisement)_Full-HD.smi -> C:/Users/Admin/Dataset Buisness/subs\\The Gift of Life (Advertisement)_Full-HD.txt\n",
      "Processed: C:/Users/Admin/Dataset Buisness/USA Bans Russian Oil Imports Because of Ukraine  _ ISH News_Full-HD.smi -> C:/Users/Admin/Dataset Buisness/subs\\USA Bans Russian Oil Imports Because of Ukraine  _ ISH News_Full-HD.txt\n"
     ]
    }
   ],
   "source": [
    "import os\n",
    "import re\n",
    "from html import unescape\n",
    "from datetime import timedelta\n",
    "\n",
    "def process_smi_files(input_dir, output_dir):\n",
    "    os.makedirs(output_dir, exist_ok=True)\n",
    "\n",
    "    smi_files = [f for f in os.listdir(input_dir) if f.endswith('.smi')]\n",
    "\n",
    "    for smi_file_name in smi_files:\n",
    "        input_path = os.path.join(input_dir, smi_file_name)\n",
    "        output_path = os.path.join(output_dir, smi_file_name.replace('.smi', '.txt'))\n",
    "\n",
    "        try:\n",
    "            process_single_smi_file(input_path, output_path)\n",
    "        except Exception as e:\n",
    "            print(f\"Error processing {input_path}: {e}\")\n",
    "\n",
    "def process_single_smi_file(input_path, output_path):\n",
    "    with open(input_path, 'rb') as smi_file:\n",
    "        smi_content = smi_file.read().decode('utf-8')\n",
    "\n",
    "    timed_plain_text = smi_file_to_timed_plain_text(smi_content)\n",
    "\n",
    "    if timed_plain_text.strip():\n",
    "        with open(output_path, 'w', encoding='utf-8') as output_file:\n",
    "            output_file.write(timed_plain_text)\n",
    "        print(f\"Processed: {input_path} -> {output_path}\")\n",
    "    else:\n",
    "        print(f\"Skipping: {input_path} (empty output)\")\n",
    "\n",
    "def smi_file_to_timed_plain_text(smi_content):\n",
    "    pattern = re.compile(r'<SYNC Start=(\\d+)><P class=\\'en-IN\\'>(.*?)\\n', re.DOTALL)\n",
    "    matches = pattern.findall(smi_content)\n",
    "\n",
    "    decoded_matches = [(timedelta(milliseconds=int(timestamp)), unescape(text)) for timestamp, text in matches]\n",
    "\n",
    "    formatted_matches = [f\"{int(timestamp.total_seconds() // 60):02}:{int(timestamp.total_seconds() % 60):02}\\n{text}\" for timestamp, text in decoded_matches if text.strip()]\n",
    "\n",
    "    timed_plain_text = '\\n'.join(formatted_matches)\n",
    "    return timed_plain_text\n",
    "\n",
    "# Example usage\n",
    "input_directory = 'C:/Users/Admin/Dataset Buisness/'\n",
    "output_directory = 'C:/Users/Admin/Dataset Buisness/subs'\n",
    "process_smi_files(input_directory, output_directory)\n"
   ]
  },
  {
   "cell_type": "code",
   "execution_count": null,
   "id": "d70af52f-2afc-4840-8794-c3f21f81b98a",
   "metadata": {},
   "outputs": [],
   "source": []
  }
 ],
 "metadata": {
  "kernelspec": {
   "display_name": "Python 3 (ipykernel)",
   "language": "python",
   "name": "python3"
  },
  "language_info": {
   "codemirror_mode": {
    "name": "ipython",
    "version": 3
   },
   "file_extension": ".py",
   "mimetype": "text/x-python",
   "name": "python",
   "nbconvert_exporter": "python",
   "pygments_lexer": "ipython3",
   "version": "3.8.17"
  }
 },
 "nbformat": 4,
 "nbformat_minor": 5
}
