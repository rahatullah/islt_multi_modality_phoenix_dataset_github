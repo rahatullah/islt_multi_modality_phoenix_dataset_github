{
 "cells": [
  {
   "cell_type": "code",
   "execution_count": 6,
   "id": "408573e8-a0ed-42b4-a49e-f8bab0d9d8f6",
   "metadata": {},
   "outputs": [],
   "source": [
    "import os\n",
    "import re\n",
    "import html\n",
    "from html import unescape  # Import the unescape function from the html module"
   ]
  },
  {
   "cell_type": "code",
   "execution_count": 7,
   "id": "9364e380-ffb8-4ef8-8293-453dab461595",
   "metadata": {},
   "outputs": [],
   "source": [
    "def process_smi_files(input_dir, output_dir):\n",
    "    # Create the output directory if it doesn't exist\n",
    "    os.makedirs(output_dir, exist_ok=True)\n",
    "\n",
    "    # List all files in the input directory\n",
    "    smi_files = [f for f in os.listdir(input_dir) if f.endswith('.smi')]\n",
    "\n",
    "    for smi_file_name in smi_files:\n",
    "        input_path = os.path.join(input_dir, smi_file_name)\n",
    "        output_path = os.path.join(output_dir, smi_file_name.replace('.smi', '.txt'))\n",
    "\n",
    "        try:\n",
    "            process_single_smi_file(input_path, output_path)\n",
    "        except Exception as e:\n",
    "            print(f\"Error processing {input_path}: {e}\")"
   ]
  },
  {
   "cell_type": "code",
   "execution_count": 8,
   "id": "cf96a315-6b9c-47e9-aa0d-d262c0c6937f",
   "metadata": {},
   "outputs": [],
   "source": [
    "def process_single_smi_file(input_path, output_path):\n",
    "    # Load the SMI file as binary and decode it\n",
    "    with open(input_path, 'rb') as smi_file:\n",
    "        smi_content = smi_file.read().decode('utf-8')\n",
    "\n",
    "    # Process the content and write to the output .txt file\n",
    "    timed_plain_text = smi_file_to_timed_plain_text(smi_content)\n",
    "\n",
    "    if timed_plain_text.strip():\n",
    "        with open(output_path, 'w', encoding='utf-8') as output_file:\n",
    "            output_file.write(timed_plain_text)\n",
    "        print(f\"Processed: {input_path} -> {output_path}\")\n",
    "    else:\n",
    "        print(f\"Skipping: {input_path} (empty output)\")\n"
   ]
  },
  {
   "cell_type": "code",
   "execution_count": 9,
   "id": "00c3c186-aef5-441a-b6e3-aac064cd1346",
   "metadata": {},
   "outputs": [],
   "source": [
    "def smi_file_to_timed_plain_text(smi_content):\n",
    "    # Extract timed plain text from SMI content using regex\n",
    "    pattern = re.compile(r'<SYNC Start=\\d+><P class=\\'en-IN\\'>(.*?)\\n', re.DOTALL)\n",
    "    matches = pattern.findall(smi_content)\n",
    "    timed_plain_text = '\\n'.join(matches)\n",
    "    return timed_plain_text"
   ]
  },
  {
   "cell_type": "code",
   "execution_count": 10,
   "id": "4b7373cc-9593-476b-93df-c33ac7eb04a5",
   "metadata": {},
   "outputs": [
    {
     "name": "stdout",
     "output_type": "stream",
     "text": [
      "Processed: C:/Users/Admin/Dataset Buisness/2022 Finance Budget Key Highlights_Full-HD.smi -> C:/Users/Admin/Dataset Buisness/subs\\2022 Finance Budget Key Highlights_Full-HD.txt\n",
      "Processed: C:/Users/Admin/Dataset Buisness/ABG Shipyard Scams Indian Banks Of Over ₹22,000 Crore _ ISH News_Full-HD.smi -> C:/Users/Admin/Dataset Buisness/subs\\ABG Shipyard Scams Indian Banks Of Over ₹22,000 Crore _ ISH News_Full-HD.txt\n",
      "Processed: C:/Users/Admin/Dataset Buisness/Adani Buys a Port in Israel Worth 1.2Billion Dollars _ ISH News_Full-HD.smi -> C:/Users/Admin/Dataset Buisness/subs\\Adani Buys a Port in Israel Worth 1.2Billion Dollars _ ISH News_Full-HD.txt\n",
      "Processed: C:/Users/Admin/Dataset Buisness/Adani Group Takes Over Management of Mumbai Airport_Full-HD.smi -> C:/Users/Admin/Dataset Buisness/subs\\Adani Group Takes Over Management of Mumbai Airport_Full-HD.txt\n",
      "Processed: C:/Users/Admin/Dataset Buisness/Adani Overtakes Arnault & Becomes the 3rd Richest Man _ ISH News_Full-HD.smi -> C:/Users/Admin/Dataset Buisness/subs\\Adani Overtakes Arnault & Becomes the 3rd Richest Man _ ISH News_Full-HD.txt\n",
      "Processed: C:/Users/Admin/Dataset Buisness/Adani Overtakes Bill Gates & Becomes 4th Richest Man _ ISH News_Full-HD.smi -> C:/Users/Admin/Dataset Buisness/subs\\Adani Overtakes Bill Gates & Becomes 4th Richest Man _ ISH News_Full-HD.txt\n",
      "Processed: C:/Users/Admin/Dataset Buisness/Ambani Buys House in Dubai & Plans to Start 5G Service in 2 Months _ ISH New_Full-HD.smi -> C:/Users/Admin/Dataset Buisness/subs\\Ambani Buys House in Dubai & Plans to Start 5G Service in 2 Months _ ISH New_Full-HD.txt\n",
      "Processed: C:/Users/Admin/Dataset Buisness/Classic Cold Drink Campa Cola Will be Back Soon _ ISH News_Full-HD.smi -> C:/Users/Admin/Dataset Buisness/subs\\Classic Cold Drink Campa Cola Will be Back Soon _ ISH News_Full-HD.txt\n",
      "Processed: C:/Users/Admin/Dataset Buisness/Crypto Crash Because of Russia & USA__Full-HD.smi -> C:/Users/Admin/Dataset Buisness/subs\\Crypto Crash Because of Russia & USA__Full-HD.txt\n",
      "Processed: C:/Users/Admin/Dataset Buisness/DHFL Defrauds UBI & 16 Other Banks For ₹34,615 crore _ ISH News_Full-HD.smi -> C:/Users/Admin/Dataset Buisness/subs\\DHFL Defrauds UBI & 16 Other Banks For ₹34,615 crore _ ISH News_Full-HD.txt\n",
      "Processed: C:/Users/Admin/Dataset Buisness/Ex-Tata Sons Chief Cyrus Mistry Dies in a Road Accident _ ISH News_Full-HD.smi -> C:/Users/Admin/Dataset Buisness/subs\\Ex-Tata Sons Chief Cyrus Mistry Dies in a Road Accident _ ISH News_Full-HD.txt\n",
      "Processed: C:/Users/Admin/Dataset Buisness/Govt Extended FY21 Income Tax Return Deadline_Full-HD.smi -> C:/Users/Admin/Dataset Buisness/subs\\Govt Extended FY21 Income Tax Return Deadline_Full-HD.txt\n",
      "Skipping: C:/Users/Admin/Dataset Buisness/Govt Sells Air India Subsidiary AIATSL_Full-HD.smi (empty output)\n",
      "Processed: C:/Users/Admin/Dataset Buisness/Govt. Withdraws Order on Interest Rate Cuts_Full-HD.smi -> C:/Users/Admin/Dataset Buisness/subs\\Govt. Withdraws Order on Interest Rate Cuts_Full-HD.txt\n",
      "Processed: C:/Users/Admin/Dataset Buisness/ICICI Ex-CEO & Husband Arrested For a 3,250 Cr Fraud _ ISH News_Full-HD.smi -> C:/Users/Admin/Dataset Buisness/subs\\ICICI Ex-CEO & Husband Arrested For a 3,250 Cr Fraud _ ISH News_Full-HD.txt\n",
      "Processed: C:/Users/Admin/Dataset Buisness/India- 30_ Tax on CryptoCurrency from 1 April 2022 _ ISH News_Full-HD.smi -> C:/Users/Admin/Dataset Buisness/subs\\India- 30_ Tax on CryptoCurrency from 1 April 2022 _ ISH News_Full-HD.txt\n",
      "Processed: C:/Users/Admin/Dataset Buisness/INDIA- Extra Charge on UPI Payments_  _ ISH News_Full-HD.smi -> C:/Users/Admin/Dataset Buisness/subs\\INDIA- Extra Charge on UPI Payments_  _ ISH News_Full-HD.txt\n",
      "Processed: C:/Users/Admin/Dataset Buisness/Indian Banks Strike For 2 Days Against Privatisation_Full-HD.smi -> C:/Users/Admin/Dataset Buisness/subs\\Indian Banks Strike For 2 Days Against Privatisation_Full-HD.txt\n",
      "Processed: C:/Users/Admin/Dataset Buisness/Isha Ambani Becomes the New Boss of Reliance Retail_ _ ISH News_Full-HD.smi -> C:/Users/Admin/Dataset Buisness/subs\\Isha Ambani Becomes the New Boss of Reliance Retail_ _ ISH News_Full-HD.txt\n",
      "Processed: C:/Users/Admin/Dataset Buisness/Mcdonald’s, Starbucks, Coca Cola Stop Sales in Russia _ ISH News_Full-HD.smi -> C:/Users/Admin/Dataset Buisness/subs\\Mcdonald’s, Starbucks, Coca Cola Stop Sales in Russia _ ISH News_Full-HD.txt\n",
      "Processed: C:/Users/Admin/Dataset Buisness/Now Withdraw Cash Using UPI-ATM _ ISH News_Full-HD.smi -> C:/Users/Admin/Dataset Buisness/subs\\Now Withdraw Cash Using UPI-ATM _ ISH News_Full-HD.txt\n",
      "Processed: C:/Users/Admin/Dataset Buisness/NRIs in USA Rush To Buy Indian Rice  _ ISH News_Full-HD.smi -> C:/Users/Admin/Dataset Buisness/subs\\NRIs in USA Rush To Buy Indian Rice  _ ISH News_Full-HD.txt\n",
      "Processed: C:/Users/Admin/Dataset Buisness/PM Modi Wants to Ban Cryptocurrencies_Full-HD.smi -> C:/Users/Admin/Dataset Buisness/subs\\PM Modi Wants to Ban Cryptocurrencies_Full-HD.txt\n",
      "Processed: C:/Users/Admin/Dataset Buisness/Price of Dry Fruits Increases Because of Taliban_Full-HD.smi -> C:/Users/Admin/Dataset Buisness/subs\\Price of Dry Fruits Increases Because of Taliban_Full-HD.txt\n",
      "Processed: C:/Users/Admin/Dataset Buisness/RBI Bans Mastercard From Taking New Customers_Full-HD.smi -> C:/Users/Admin/Dataset Buisness/subs\\RBI Bans Mastercard From Taking New Customers_Full-HD.txt\n",
      "Processed: C:/Users/Admin/Dataset Buisness/Shark Tank’s Ashneer Grover Resigns BharatPe _ ISH News_Full-HD.smi -> C:/Users/Admin/Dataset Buisness/subs\\Shark Tank’s Ashneer Grover Resigns BharatPe _ ISH News_Full-HD.txt\n",
      "Processed: C:/Users/Admin/Dataset Buisness/Taj Has Been Ranked As World’s Strongest Hotel Brand _ ISH News_Full-HD.smi -> C:/Users/Admin/Dataset Buisness/subs\\Taj Has Been Ranked As World’s Strongest Hotel Brand _ ISH News_Full-HD.txt\n",
      "Processed: C:/Users/Admin/Dataset Buisness/Tata Group Replaces Vivo as IPL’s Title Sponsor_Full-HD.smi -> C:/Users/Admin/Dataset Buisness/subs\\Tata Group Replaces Vivo as IPL’s Title Sponsor_Full-HD.txt\n",
      "Processed: C:/Users/Admin/Dataset Buisness/Tata Takes Control of Air India After 69 Years_Full-HD.smi -> C:/Users/Admin/Dataset Buisness/subs\\Tata Takes Control of Air India After 69 Years_Full-HD.txt\n",
      "Skipping: C:/Users/Admin/Dataset Buisness/The Best Valentine’s Day Gift - OMVAI_Full-HD.smi (empty output)\n",
      "Processed: C:/Users/Admin/Dataset Buisness/The Gift of Life (Advertisement)_Full-HD.smi -> C:/Users/Admin/Dataset Buisness/subs\\The Gift of Life (Advertisement)_Full-HD.txt\n",
      "Processed: C:/Users/Admin/Dataset Buisness/USA Bans Russian Oil Imports Because of Ukraine  _ ISH News_Full-HD.smi -> C:/Users/Admin/Dataset Buisness/subs\\USA Bans Russian Oil Imports Because of Ukraine  _ ISH News_Full-HD.txt\n"
     ]
    }
   ],
   "source": [
    "input_directory = 'C:/Users/Admin/Dataset Buisness/'\n",
    "output_directory = 'C:/Users/Admin/Dataset Buisness/subs'\n",
    "\n",
    "process_smi_files(input_directory, output_directory)"
   ]
  },
  {
   "cell_type": "code",
   "execution_count": null,
   "id": "aa6ed242-577d-4638-bc9c-7856961fba23",
   "metadata": {},
   "outputs": [],
   "source": []
  }
 ],
 "metadata": {
  "kernelspec": {
   "display_name": "Python 3 (ipykernel)",
   "language": "python",
   "name": "python3"
  },
  "language_info": {
   "codemirror_mode": {
    "name": "ipython",
    "version": 3
   },
   "file_extension": ".py",
   "mimetype": "text/x-python",
   "name": "python",
   "nbconvert_exporter": "python",
   "pygments_lexer": "ipython3",
   "version": "3.8.17"
  }
 },
 "nbformat": 4,
 "nbformat_minor": 5
}
