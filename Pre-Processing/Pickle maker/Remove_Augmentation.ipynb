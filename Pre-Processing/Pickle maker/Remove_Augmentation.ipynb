{
 "cells": [
  {
   "cell_type": "code",
   "execution_count": 4,
   "metadata": {},
   "outputs": [],
   "source": [
    "import pandas as pd\n",
    "import re\n",
    "import numpy as np"
   ]
  },
  {
   "cell_type": "markdown",
   "metadata": {},
   "source": [
    "# **For removing augmentation**"
   ]
  },
  {
   "cell_type": "code",
   "execution_count": 5,
   "metadata": {},
   "outputs": [
    {
     "name": "stderr",
     "output_type": "stream",
     "text": [
      "C:\\Users\\Admin\\AppData\\Local\\Temp\\ipykernel_19360\\27540778.py:15: FutureWarning: DataFrame.applymap has been deprecated. Use DataFrame.map instead.\n",
      "  filtered_df = df[~df.applymap(contains_unwanted_sequence).any(axis=1)]\n"
     ]
    }
   ],
   "source": [
    "# Load the Excel file\n",
    "file_path = 'Dataset/excels/temp.xlsx'  # Replace with your file path\n",
    "df = pd.read_excel(file_path)\n",
    "\n",
    "# Define a function to check for unwanted sequences in any cell\n",
    "def contains_unwanted_sequence(cell):\n",
    "    if isinstance(cell, str):\n",
    "        patterns = ['_40', '_50', '_60', '_70', '_80']\n",
    "        for pattern in patterns:\n",
    "            if pattern in cell:\n",
    "                return True\n",
    "    return False\n",
    "\n",
    "# Apply the filter to remove rows containing any of the unwanted sequences\n",
    "filtered_df = df[~df.applymap(contains_unwanted_sequence).any(axis=1)]\n",
    "\n",
    "# Save the filtered DataFrame back to Excel\n",
    "filtered_df.to_excel('Dataset/excels/filtered_file.xlsx', index=False)"
   ]
  },
  {
   "cell_type": "markdown",
   "metadata": {},
   "source": [
    "# **For breaking into 20 parts**"
   ]
  },
  {
   "cell_type": "code",
   "execution_count": 6,
   "metadata": {},
   "outputs": [
    {
     "name": "stderr",
     "output_type": "stream",
     "text": [
      "c:\\Users\\Admin\\.conda\\envs\\slt_cuda\\lib\\site-packages\\numpy\\core\\fromnumeric.py:59: FutureWarning: 'DataFrame.swapaxes' is deprecated and will be removed in a future version. Please use 'DataFrame.transpose' instead.\n",
      "  return bound(*args, **kwds)\n"
     ]
    }
   ],
   "source": [
    "# Load the Excel file\n",
    "file_path = 'Dataset/excels/filtered_file.xlsx'  # Replace with your file path\n",
    "df = pd.read_excel(file_path)\n",
    "\n",
    "# Shuffle the rows of the DataFrame\n",
    "shuffled_df = df.sample(frac=1).reset_index(drop=True)\n",
    "\n",
    "# Split the DataFrame into 20 roughly equal parts\n",
    "num_files = 20\n",
    "split_dfs = np.array_split(shuffled_df, num_files)\n",
    "\n",
    "# Save each part into a separate Excel file\n",
    "for i, split_df in enumerate(split_dfs):\n",
    "    split_df.to_excel(f'Dataset/excels/split_file_{i+1}.xlsx', index=False)"
   ]
  }
 ],
 "metadata": {
  "kernelspec": {
   "display_name": "slt_cuda",
   "language": "python",
   "name": "python3"
  },
  "language_info": {
   "codemirror_mode": {
    "name": "ipython",
    "version": 3
   },
   "file_extension": ".py",
   "mimetype": "text/x-python",
   "name": "python",
   "nbconvert_exporter": "python",
   "pygments_lexer": "ipython3",
   "version": "3.10.13"
  }
 },
 "nbformat": 4,
 "nbformat_minor": 2
}
