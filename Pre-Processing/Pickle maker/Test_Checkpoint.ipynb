{
 "cells": [
  {
   "cell_type": "code",
   "execution_count": 1,
   "metadata": {},
   "outputs": [],
   "source": [
    "import pickle"
   ]
  },
  {
   "cell_type": "code",
   "execution_count": 2,
   "metadata": {},
   "outputs": [],
   "source": [
    "checkpoint_path = 'Dataset/dev_checkpoint.pkl'"
   ]
  },
  {
   "cell_type": "code",
   "execution_count": 3,
   "metadata": {},
   "outputs": [],
   "source": [
    "def print_first_item(checkpoint_path, item):\n",
    "    with open(checkpoint_path, 'rb') as f:\n",
    "        checkpoint_data = pickle.load(f)\n",
    "        if checkpoint_data:\n",
    "            first_item = checkpoint_data[item]\n",
    "            print(first_item)\n",
    "        else:\n",
    "            print(\"Checkpoint file is empty.\")\n",
    "\n"
   ]
  },
  {
   "cell_type": "code",
   "execution_count": 6,
   "metadata": {},
   "outputs": [
    {
     "name": "stdout",
     "output_type": "stream",
     "text": [
      "{'name': '320_018', 'signer': 'Signer03', 'gloss': 'A B C D E', 'text': 'good morning', 'sign': tensor([[2.1361e+07, 1.0000e-08, 1.0808e+08,  ..., 1.6028e+09, 4.8060e+07,\n",
      "         2.5439e+07],\n",
      "        [2.6026e+07, 1.0000e-08, 1.2892e+08,  ..., 1.8840e+09, 5.8501e+07,\n",
      "         3.1237e+07],\n",
      "        [2.2950e+07, 1.0000e-08, 1.1299e+08,  ..., 1.6525e+09, 5.1629e+07,\n",
      "         2.7685e+07],\n",
      "        ...,\n",
      "        [2.4112e+07, 1.0000e-08, 1.1835e+08,  ..., 1.7279e+09, 5.4208e+07,\n",
      "         2.9105e+07],\n",
      "        [2.4064e+07, 1.0000e-08, 1.1815e+08,  ..., 1.7248e+09, 5.4108e+07,\n",
      "         2.9051e+07],\n",
      "        [3.4666e+07, 1.0000e-08, 1.7007e+08,  ..., 2.4922e+09, 7.7935e+07,\n",
      "         4.1865e+07]])}\n"
     ]
    }
   ],
   "source": [
    "print_first_item(checkpoint_path,3)"
   ]
  },
  {
   "cell_type": "code",
   "execution_count": null,
   "metadata": {},
   "outputs": [],
   "source": []
  }
 ],
 "metadata": {
  "kernelspec": {
   "display_name": "slt_cuda",
   "language": "python",
   "name": "python3"
  },
  "language_info": {
   "codemirror_mode": {
    "name": "ipython",
    "version": 3
   },
   "file_extension": ".py",
   "mimetype": "text/x-python",
   "name": "python",
   "nbconvert_exporter": "python",
   "pygments_lexer": "ipython3",
   "version": "3.10.13"
  }
 },
 "nbformat": 4,
 "nbformat_minor": 2
}
