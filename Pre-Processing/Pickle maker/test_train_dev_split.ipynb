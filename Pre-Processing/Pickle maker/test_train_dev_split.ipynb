{
 "cells": [
  {
   "cell_type": "code",
   "execution_count": null,
   "metadata": {},
   "outputs": [],
   "source": [
    "import pandas as pd\n",
    "import numpy as np\n",
    "import random\n",
    "import os"
   ]
  },
  {
   "cell_type": "markdown",
   "metadata": {},
   "source": [
    "# **Test Train Dev Split**"
   ]
  },
  {
   "cell_type": "code",
   "execution_count": null,
   "metadata": {},
   "outputs": [],
   "source": [
    "# Load your data from an Excel file\n",
    "input_file =  'Dataset\\\\excels\\\\filtered_file.xlsx'  # Replace with your input file name\n",
    "df = pd.read_excel(input_file, header=None)\n",
    "\n",
    "# Manually set the expected columns\n",
    "expected_columns = [\"ID\", \"Signer\", \"Sequence\", \"Phrase\", \"ID_Duplicate\"]\n",
    "df.columns = expected_columns\n",
    "\n",
    "# Function to split data based on unique entries\n",
    "def split_data(df):\n",
    "    df['Prefix'] = df['ID'].apply(lambda x: x.split('_')[0])\n",
    "    unique_prefixes = df['Prefix'].unique()\n",
    "    random.shuffle(unique_prefixes)\n",
    "    \n",
    "    dev_set = []\n",
    "    test_set = []\n",
    "    train_set = []\n",
    "    \n",
    "    dev_prefixes = set()\n",
    "    test_prefixes = set()\n",
    "    \n",
    "    for prefix in unique_prefixes:\n",
    "        prefix_data = df[df['Prefix'] == prefix]\n",
    "        prefix_entries = prefix_data.sample(frac=1).values.tolist()  # Shuffle the entries for each prefix\n",
    "        \n",
    "        if len(prefix_entries) > 0:\n",
    "            dev_set.append(prefix_entries.pop(0))\n",
    "            dev_prefixes.add(prefix)\n",
    "        \n",
    "        if len(prefix_entries) > 0:\n",
    "            test_set.append(prefix_entries.pop(0))\n",
    "            test_prefixes.add(prefix)\n",
    "        \n",
    "        train_set.extend(prefix_entries)\n",
    "    \n",
    "    dev_df = pd.DataFrame(dev_set, columns=df.columns)\n",
    "    test_df = pd.DataFrame(test_set, columns=df.columns)\n",
    "    train_df = pd.DataFrame(train_set, columns=df.columns)\n",
    "    \n",
    "    return dev_df, test_df, train_df\n",
    "\n",
    "# Split the data\n",
    "dev_df, test_df, train_df = split_data(df)\n",
    "\n",
    "# Save to Excel files\n",
    "dev_df.to_excel('Dataset\\\\excels\\\\dev.xlsx', index=False)\n",
    "test_df.to_excel('Dataset\\\\excels\\\\test.xlsx', index=False)\n",
    "train_df.to_excel('Dataset\\\\excels\\\\train.xlsx', index=False)\n",
    "\n",
    "print(\"Files have been created successfully.\")"
   ]
  },
  {
   "cell_type": "code",
   "execution_count": null,
   "metadata": {},
   "outputs": [],
   "source": [
    "file_path = os.path.join(os.path.dirname(os.path.abspath(__file__)), 'Dataset\\\\excels\\\\train.xlsx')  # Replace with your file path\n",
    "df = pd.read_excel(file_path)\n",
    "\n",
    "# Shuffle the rows of the DataFrame\n",
    "shuffled_df = df.sample(frac=1).reset_index(drop=True)\n",
    "\n",
    "# Split the DataFrame into 20 roughly equal parts\n",
    "num_files = 20\n",
    "split_dfs = np.array_split(shuffled_df, num_files)\n",
    "\n",
    "# Get the directory of the input file\n",
    "output_dir = os.path.dirname(file_path)\n",
    "\n",
    "# Save each part into a separate Excel file in the same directory as the input file\n",
    "for i, split_df in enumerate(split_dfs):\n",
    "    output_path = os.path.join(output_dir, f'split_file_{i+1}.xlsx')\n",
    "    split_df.to_excel(output_path, index=False)"
   ]
  }
 ],
 "metadata": {
  "language_info": {
   "name": "python"
  }
 },
 "nbformat": 4,
 "nbformat_minor": 2
}
